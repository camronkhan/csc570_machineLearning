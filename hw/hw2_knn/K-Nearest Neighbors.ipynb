{
 "cells": [
  {
   "cell_type": "markdown",
   "metadata": {},
   "source": [
    "### Clear environment and load dependencies."
   ]
  },
  {
   "cell_type": "code",
   "execution_count": 2,
   "metadata": {
    "collapsed": false
   },
   "outputs": [
    {
     "name": "stderr",
     "output_type": "stream",
     "text": [
      "Loading required package: lattice\n",
      "Loading required package: ggplot2\n"
     ]
    },
    {
     "ename": "ERROR",
     "evalue": "Error in library(gmodels): there is no package called 'gmodels'\n",
     "output_type": "error",
     "traceback": [
      "Error in library(gmodels): there is no package called 'gmodels'\nTraceback:\n",
      "1. library(gmodels)",
      "2. stop(txt, domain = NA)"
     ]
    }
   ],
   "source": [
    "rm(list=ls())\n",
    "library(caret)\n",
    "library(class)\n",
    "library(gmodels)\n",
    "library(MLmetrics)"
   ]
  },
  {
   "cell_type": "code",
   "execution_count": null,
   "metadata": {
    "collapsed": true
   },
   "outputs": [],
   "source": []
  }
 ],
 "metadata": {
  "kernelspec": {
   "display_name": "R",
   "language": "R",
   "name": "ir"
  },
  "language_info": {
   "codemirror_mode": "r",
   "file_extension": ".r",
   "mimetype": "text/x-r-source",
   "name": "R",
   "pygments_lexer": "r",
   "version": "3.3.2"
  }
 },
 "nbformat": 4,
 "nbformat_minor": 2
}
